{
 "cells": [
  {
   "cell_type": "code",
   "execution_count": 4,
   "metadata": {},
   "outputs": [
    {
     "name": "stdout",
     "output_type": "stream",
     "text": [
      "Requirement already satisfied: PyGithub in /opt/anaconda3/lib/python3.9/site-packages (2.5.0)\n",
      "Requirement already satisfied: pynacl>=1.4.0 in /opt/anaconda3/lib/python3.9/site-packages (from PyGithub) (1.5.0)\n",
      "Requirement already satisfied: requests>=2.14.0 in /opt/anaconda3/lib/python3.9/site-packages (from PyGithub) (2.31.0)\n",
      "Requirement already satisfied: pyjwt>=2.4.0 in /opt/anaconda3/lib/python3.9/site-packages (from pyjwt[crypto]>=2.4.0->PyGithub) (2.10.1)\n",
      "Requirement already satisfied: typing-extensions>=4.0.0 in /opt/anaconda3/lib/python3.9/site-packages (from PyGithub) (4.1.1)\n",
      "Requirement already satisfied: urllib3>=1.26.0 in /opt/anaconda3/lib/python3.9/site-packages (from PyGithub) (1.26.9)\n",
      "Requirement already satisfied: Deprecated in /opt/anaconda3/lib/python3.9/site-packages (from PyGithub) (1.2.18)\n",
      "Requirement already satisfied: cryptography>=3.4.0 in /opt/anaconda3/lib/python3.9/site-packages (from pyjwt[crypto]>=2.4.0->PyGithub) (3.4.8)\n",
      "Requirement already satisfied: cffi>=1.4.1 in /opt/anaconda3/lib/python3.9/site-packages (from pynacl>=1.4.0->PyGithub) (1.15.0)\n",
      "Requirement already satisfied: charset-normalizer<4,>=2 in /opt/anaconda3/lib/python3.9/site-packages (from requests>=2.14.0->PyGithub) (2.0.4)\n",
      "Requirement already satisfied: idna<4,>=2.5 in /opt/anaconda3/lib/python3.9/site-packages (from requests>=2.14.0->PyGithub) (3.3)\n",
      "Requirement already satisfied: certifi>=2017.4.17 in /opt/anaconda3/lib/python3.9/site-packages (from requests>=2.14.0->PyGithub) (2021.10.8)\n",
      "Requirement already satisfied: wrapt<2,>=1.10 in /opt/anaconda3/lib/python3.9/site-packages (from Deprecated->PyGithub) (1.12.1)\n",
      "Requirement already satisfied: pycparser in /opt/anaconda3/lib/python3.9/site-packages (from cffi>=1.4.1->pynacl>=1.4.0->PyGithub) (2.21)\n"
     ]
    }
   ],
   "source": [
    "!pip3 install PyGithub\n"
   ]
  },
  {
   "cell_type": "code",
   "execution_count": 5,
   "metadata": {},
   "outputs": [
    {
     "name": "stdout",
     "output_type": "stream",
     "text": [
      "Branches:\n",
      "main\n",
      "my-new-branch\n",
      "Pull Requests:\n",
      "#3 - deleted PyGithub.ipynb (State: closed)\n",
      "#2 - install PyGithub (State: closed)\n",
      "#1 - Saads Fork Merger (State: closed)\n",
      "Commits in main branch:\n",
      "6238242 - Merge pull request #3 from YaseeenMR/my-new-branch\n",
      "\n",
      "deleted PyGithub.ipynb by web-flow\n",
      "b217673 - Merge pull request #2 from YaseeenMR/my-new-branch\n",
      "\n",
      "install PyGithub by web-flow\n",
      "c52a328 - Create PyGithub.ipynb by web-flow\n",
      "cd79ec7 - Merge pull request #1 from SaadTheBaad/main\n",
      "\n",
      "Saads Fork Merger by web-flow\n"
     ]
    }
   ],
   "source": [
    "from github import Github\n",
    "\n",
    "# or using an access token\n",
    "g = Github(\"x\")\n",
    "repo = g.get_repo(\"YaseeenMR/ENSF-400-Lab-2\")\n",
    "\n",
    "## Complete your tasks from here\n",
    "\n",
    "# Get the list of branches\n",
    "branches = repo.get_branches()\n",
    "print(\"Branches:\")\n",
    "for branch in branches:\n",
    "    print(branch.name)\n",
    "\n",
    "# Get all pull requests \n",
    "pulls = repo.get_pulls(state=\"all\")  # 'open', 'closed', or 'all'\n",
    "print(\"Pull Requests:\")\n",
    "for pr in pulls:\n",
    "    if pr.user.login == g.get_user().login:\n",
    "        print(f\"#{pr.number} - {pr.title} (State: {pr.state})\")\n",
    "\n",
    "# Get all commits in the main branch\n",
    "MAIN_BRANCH = \"main\"  \n",
    "\n",
    "commits = repo.get_commits(sha=MAIN_BRANCH)\n",
    "\n",
    "print(\"Commits in main branch:\")\n",
    "for commit in commits:\n",
    "    if commit.author and commit.author.login == g.get_user().login:\n",
    "        print(f\"{commit.sha[:7]} - {commit.commit.message} by {commit.committer.login}\")\n",
    "\n",
    "\n",
    "\n"
   ]
  }
 ],
 "metadata": {
  "kernelspec": {
   "display_name": "Python 3",
   "language": "python",
   "name": "python3"
  },
  "language_info": {
   "codemirror_mode": {
    "name": "ipython",
    "version": 3
   },
   "file_extension": ".py",
   "mimetype": "text/x-python",
   "name": "python",
   "nbconvert_exporter": "python",
   "pygments_lexer": "ipython3",
   "version": "3.9.12"
  },
  "orig_nbformat": 4
 },
 "nbformat": 4,
 "nbformat_minor": 2
}
